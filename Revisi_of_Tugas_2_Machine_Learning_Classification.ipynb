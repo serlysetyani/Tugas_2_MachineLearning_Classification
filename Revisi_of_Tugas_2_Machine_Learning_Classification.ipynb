{
  "cells": [
    {
      "cell_type": "markdown",
      "metadata": {
        "id": "sv5ljhdbJKQm"
      },
      "source": [
        "# Anggota Kelompok\n",
        "\n",
        "\n",
        "*   Serly Setyani\n",
        "*   Alifia Shafira\n",
        "*   Laura Imanuela Mustamu"
      ]
    },
    {
      "cell_type": "markdown",
      "metadata": {
        "id": "auSPIwzuJno6"
      },
      "source": [
        "# Formulasi Masalah\n",
        "Masalah yang ingin diselesaikan adalah untuk memprediksi apakah pelanggan tertarik atau tidak tertarik untuk membeli kendaraan baru berdasarkan dataset yang telah diberikan menggunakan algoritma klasifikasi."
      ]
    },
    {
      "cell_type": "markdown",
      "metadata": {
        "id": "x5pHSINkVQD8"
      },
      "source": [
        "# Preprocessing Data"
      ]
    },
    {
      "cell_type": "code",
      "execution_count": 37,
      "metadata": {
        "id": "6Hc7Xdx-JmkH"
      },
      "outputs": [],
      "source": [
        "# Import Library\n",
        "import pandas as pd\n",
        "import numpy as np\n",
        "import seaborn as sn\n",
        "from sklearn import preprocessing\n",
        "import matplotlib.pyplot as plt\n",
        "import warnings\n",
        "from sklearn.model_selection import train_test_split\n",
        "from sklearn.tree import DecisionTreeClassifier\n",
        "from sklearn.neighbors import KNeighborsClassifier\n",
        "from imblearn.over_sampling import SMOTE\n",
        "from matplotlib.colors import ListedColormap\n",
        "from sklearn.metrics import confusion_matrix\n",
        "from sklearn.metrics import accuracy_score as acc"
      ]
    },
    {
      "cell_type": "code",
      "execution_count": 38,
      "metadata": {
        "colab": {
          "base_uri": "https://localhost:8080/",
          "height": 250
        },
        "id": "I-RcyxhjL1uH",
        "outputId": "c5ea68a2-b4fa-4305-ab3c-0a7ea45a16dd"
      },
      "outputs": [
        {
          "output_type": "execute_result",
          "data": {
            "text/html": [
              "\n",
              "  <div id=\"df-fd8f9373-0996-4e69-876f-c655ceabec48\">\n",
              "    <div class=\"colab-df-container\">\n",
              "      <div>\n",
              "<style scoped>\n",
              "    .dataframe tbody tr th:only-of-type {\n",
              "        vertical-align: middle;\n",
              "    }\n",
              "\n",
              "    .dataframe tbody tr th {\n",
              "        vertical-align: top;\n",
              "    }\n",
              "\n",
              "    .dataframe thead th {\n",
              "        text-align: right;\n",
              "    }\n",
              "</style>\n",
              "<table border=\"1\" class=\"dataframe\">\n",
              "  <thead>\n",
              "    <tr style=\"text-align: right;\">\n",
              "      <th></th>\n",
              "      <th>id</th>\n",
              "      <th>Jenis_Kelamin</th>\n",
              "      <th>Umur</th>\n",
              "      <th>SIM</th>\n",
              "      <th>Kode_Daerah</th>\n",
              "      <th>Sudah_Asuransi</th>\n",
              "      <th>Umur_Kendaraan</th>\n",
              "      <th>Kendaraan_Rusak</th>\n",
              "      <th>Premi</th>\n",
              "      <th>Kanal_Penjualan</th>\n",
              "      <th>Lama_Berlangganan</th>\n",
              "      <th>Tertarik</th>\n",
              "    </tr>\n",
              "  </thead>\n",
              "  <tbody>\n",
              "    <tr>\n",
              "      <th>189604</th>\n",
              "      <td>189605</td>\n",
              "      <td>Pria</td>\n",
              "      <td>39.0</td>\n",
              "      <td>1.0</td>\n",
              "      <td>30.0</td>\n",
              "      <td>1.0</td>\n",
              "      <td>1-2 Tahun</td>\n",
              "      <td>Tidak</td>\n",
              "      <td>2630.0</td>\n",
              "      <td>124.0</td>\n",
              "      <td>215.0</td>\n",
              "      <td>0</td>\n",
              "    </tr>\n",
              "    <tr>\n",
              "      <th>94107</th>\n",
              "      <td>94108</td>\n",
              "      <td>Wanita</td>\n",
              "      <td>74.0</td>\n",
              "      <td>1.0</td>\n",
              "      <td>28.0</td>\n",
              "      <td>1.0</td>\n",
              "      <td>1-2 Tahun</td>\n",
              "      <td>Tidak</td>\n",
              "      <td>49295.0</td>\n",
              "      <td>26.0</td>\n",
              "      <td>147.0</td>\n",
              "      <td>0</td>\n",
              "    </tr>\n",
              "    <tr>\n",
              "      <th>59563</th>\n",
              "      <td>59564</td>\n",
              "      <td>Pria</td>\n",
              "      <td>25.0</td>\n",
              "      <td>1.0</td>\n",
              "      <td>26.0</td>\n",
              "      <td>0.0</td>\n",
              "      <td>&lt; 1 Tahun</td>\n",
              "      <td>Pernah</td>\n",
              "      <td>29458.0</td>\n",
              "      <td>26.0</td>\n",
              "      <td>279.0</td>\n",
              "      <td>0</td>\n",
              "    </tr>\n",
              "    <tr>\n",
              "      <th>118552</th>\n",
              "      <td>118553</td>\n",
              "      <td>Pria</td>\n",
              "      <td>25.0</td>\n",
              "      <td>1.0</td>\n",
              "      <td>NaN</td>\n",
              "      <td>1.0</td>\n",
              "      <td>&lt; 1 Tahun</td>\n",
              "      <td>Tidak</td>\n",
              "      <td>29439.0</td>\n",
              "      <td>152.0</td>\n",
              "      <td>106.0</td>\n",
              "      <td>0</td>\n",
              "    </tr>\n",
              "    <tr>\n",
              "      <th>90247</th>\n",
              "      <td>90248</td>\n",
              "      <td>Pria</td>\n",
              "      <td>45.0</td>\n",
              "      <td>1.0</td>\n",
              "      <td>33.0</td>\n",
              "      <td>0.0</td>\n",
              "      <td>1-2 Tahun</td>\n",
              "      <td>Tidak</td>\n",
              "      <td>30782.0</td>\n",
              "      <td>124.0</td>\n",
              "      <td>238.0</td>\n",
              "      <td>0</td>\n",
              "    </tr>\n",
              "  </tbody>\n",
              "</table>\n",
              "</div>\n",
              "      <button class=\"colab-df-convert\" onclick=\"convertToInteractive('df-fd8f9373-0996-4e69-876f-c655ceabec48')\"\n",
              "              title=\"Convert this dataframe to an interactive table.\"\n",
              "              style=\"display:none;\">\n",
              "        \n",
              "  <svg xmlns=\"http://www.w3.org/2000/svg\" height=\"24px\"viewBox=\"0 0 24 24\"\n",
              "       width=\"24px\">\n",
              "    <path d=\"M0 0h24v24H0V0z\" fill=\"none\"/>\n",
              "    <path d=\"M18.56 5.44l.94 2.06.94-2.06 2.06-.94-2.06-.94-.94-2.06-.94 2.06-2.06.94zm-11 1L8.5 8.5l.94-2.06 2.06-.94-2.06-.94L8.5 2.5l-.94 2.06-2.06.94zm10 10l.94 2.06.94-2.06 2.06-.94-2.06-.94-.94-2.06-.94 2.06-2.06.94z\"/><path d=\"M17.41 7.96l-1.37-1.37c-.4-.4-.92-.59-1.43-.59-.52 0-1.04.2-1.43.59L10.3 9.45l-7.72 7.72c-.78.78-.78 2.05 0 2.83L4 21.41c.39.39.9.59 1.41.59.51 0 1.02-.2 1.41-.59l7.78-7.78 2.81-2.81c.8-.78.8-2.07 0-2.86zM5.41 20L4 18.59l7.72-7.72 1.47 1.35L5.41 20z\"/>\n",
              "  </svg>\n",
              "      </button>\n",
              "      \n",
              "  <style>\n",
              "    .colab-df-container {\n",
              "      display:flex;\n",
              "      flex-wrap:wrap;\n",
              "      gap: 12px;\n",
              "    }\n",
              "\n",
              "    .colab-df-convert {\n",
              "      background-color: #E8F0FE;\n",
              "      border: none;\n",
              "      border-radius: 50%;\n",
              "      cursor: pointer;\n",
              "      display: none;\n",
              "      fill: #1967D2;\n",
              "      height: 32px;\n",
              "      padding: 0 0 0 0;\n",
              "      width: 32px;\n",
              "    }\n",
              "\n",
              "    .colab-df-convert:hover {\n",
              "      background-color: #E2EBFA;\n",
              "      box-shadow: 0px 1px 2px rgba(60, 64, 67, 0.3), 0px 1px 3px 1px rgba(60, 64, 67, 0.15);\n",
              "      fill: #174EA6;\n",
              "    }\n",
              "\n",
              "    [theme=dark] .colab-df-convert {\n",
              "      background-color: #3B4455;\n",
              "      fill: #D2E3FC;\n",
              "    }\n",
              "\n",
              "    [theme=dark] .colab-df-convert:hover {\n",
              "      background-color: #434B5C;\n",
              "      box-shadow: 0px 1px 3px 1px rgba(0, 0, 0, 0.15);\n",
              "      filter: drop-shadow(0px 1px 2px rgba(0, 0, 0, 0.3));\n",
              "      fill: #FFFFFF;\n",
              "    }\n",
              "  </style>\n",
              "\n",
              "      <script>\n",
              "        const buttonEl =\n",
              "          document.querySelector('#df-fd8f9373-0996-4e69-876f-c655ceabec48 button.colab-df-convert');\n",
              "        buttonEl.style.display =\n",
              "          google.colab.kernel.accessAllowed ? 'block' : 'none';\n",
              "\n",
              "        async function convertToInteractive(key) {\n",
              "          const element = document.querySelector('#df-fd8f9373-0996-4e69-876f-c655ceabec48');\n",
              "          const dataTable =\n",
              "            await google.colab.kernel.invokeFunction('convertToInteractive',\n",
              "                                                     [key], {});\n",
              "          if (!dataTable) return;\n",
              "\n",
              "          const docLinkHtml = 'Like what you see? Visit the ' +\n",
              "            '<a target=\"_blank\" href=https://colab.research.google.com/notebooks/data_table.ipynb>data table notebook</a>'\n",
              "            + ' to learn more about interactive tables.';\n",
              "          element.innerHTML = '';\n",
              "          dataTable['output_type'] = 'display_data';\n",
              "          await google.colab.output.renderOutput(dataTable, element);\n",
              "          const docLink = document.createElement('div');\n",
              "          docLink.innerHTML = docLinkHtml;\n",
              "          element.appendChild(docLink);\n",
              "        }\n",
              "      </script>\n",
              "    </div>\n",
              "  </div>\n",
              "  "
            ],
            "text/plain": [
              "            id Jenis_Kelamin  ...  Lama_Berlangganan  Tertarik\n",
              "189604  189605          Pria  ...              215.0         0\n",
              "94107    94108        Wanita  ...              147.0         0\n",
              "59563    59564          Pria  ...              279.0         0\n",
              "118552  118553          Pria  ...              106.0         0\n",
              "90247    90248          Pria  ...              238.0         0\n",
              "\n",
              "[5 rows x 12 columns]"
            ]
          },
          "metadata": {},
          "execution_count": 38
        }
      ],
      "source": [
        "# Import Dataset Train\n",
        "data_train = pd.read_csv(\"https://github.com/serlysetyani/gak-tau-apa/blob/main/kendaraan_train.csv?raw=true\")\n",
        "data_train.sample(5)"
      ]
    },
    {
      "cell_type": "code",
      "execution_count": 39,
      "metadata": {
        "id": "zocF2-lGRhCu"
      },
      "outputs": [],
      "source": [
        "# Drop kolom ID pada dataset train\n",
        "drop_id_train = data_train.drop([\"id\"], axis=1)"
      ]
    },
    {
      "cell_type": "code",
      "execution_count": 40,
      "metadata": {
        "colab": {
          "base_uri": "https://localhost:8080/",
          "height": 206
        },
        "id": "DE8_gvA6NI6L",
        "outputId": "b4f46ac9-a877-4123-a66e-31386c169186"
      },
      "outputs": [
        {
          "output_type": "execute_result",
          "data": {
            "text/html": [
              "\n",
              "  <div id=\"df-984b194a-c14f-45f5-a19b-f8ca4b9d1706\">\n",
              "    <div class=\"colab-df-container\">\n",
              "      <div>\n",
              "<style scoped>\n",
              "    .dataframe tbody tr th:only-of-type {\n",
              "        vertical-align: middle;\n",
              "    }\n",
              "\n",
              "    .dataframe tbody tr th {\n",
              "        vertical-align: top;\n",
              "    }\n",
              "\n",
              "    .dataframe thead th {\n",
              "        text-align: right;\n",
              "    }\n",
              "</style>\n",
              "<table border=\"1\" class=\"dataframe\">\n",
              "  <thead>\n",
              "    <tr style=\"text-align: right;\">\n",
              "      <th></th>\n",
              "      <th>Jenis_Kelamin</th>\n",
              "      <th>Umur</th>\n",
              "      <th>SIM</th>\n",
              "      <th>Kode_Daerah</th>\n",
              "      <th>Sudah_Asuransi</th>\n",
              "      <th>Umur_Kendaraan</th>\n",
              "      <th>Kendaraan_Rusak</th>\n",
              "      <th>Premi</th>\n",
              "      <th>Kanal_Penjualan</th>\n",
              "      <th>Lama_Berlangganan</th>\n",
              "      <th>Tertarik</th>\n",
              "    </tr>\n",
              "  </thead>\n",
              "  <tbody>\n",
              "    <tr>\n",
              "      <th>36149</th>\n",
              "      <td>Pria</td>\n",
              "      <td>24</td>\n",
              "      <td>1</td>\n",
              "      <td>18</td>\n",
              "      <td>0</td>\n",
              "      <td>&lt; 1 Tahun</td>\n",
              "      <td>Pernah</td>\n",
              "      <td>2630</td>\n",
              "      <td>160</td>\n",
              "      <td>227</td>\n",
              "      <td>1</td>\n",
              "    </tr>\n",
              "    <tr>\n",
              "      <th>16351</th>\n",
              "      <td>Wanita</td>\n",
              "      <td>23</td>\n",
              "      <td>1</td>\n",
              "      <td>30</td>\n",
              "      <td>1</td>\n",
              "      <td>&lt; 1 Tahun</td>\n",
              "      <td>Tidak</td>\n",
              "      <td>23694</td>\n",
              "      <td>152</td>\n",
              "      <td>45</td>\n",
              "      <td>0</td>\n",
              "    </tr>\n",
              "    <tr>\n",
              "      <th>47076</th>\n",
              "      <td>Pria</td>\n",
              "      <td>41</td>\n",
              "      <td>1</td>\n",
              "      <td>28</td>\n",
              "      <td>0</td>\n",
              "      <td>1-2 Tahun</td>\n",
              "      <td>Pernah</td>\n",
              "      <td>35703</td>\n",
              "      <td>124</td>\n",
              "      <td>22</td>\n",
              "      <td>1</td>\n",
              "    </tr>\n",
              "    <tr>\n",
              "      <th>6976</th>\n",
              "      <td>Wanita</td>\n",
              "      <td>22</td>\n",
              "      <td>1</td>\n",
              "      <td>26</td>\n",
              "      <td>1</td>\n",
              "      <td>&lt; 1 Tahun</td>\n",
              "      <td>Tidak</td>\n",
              "      <td>28970</td>\n",
              "      <td>152</td>\n",
              "      <td>40</td>\n",
              "      <td>0</td>\n",
              "    </tr>\n",
              "    <tr>\n",
              "      <th>33505</th>\n",
              "      <td>Wanita</td>\n",
              "      <td>43</td>\n",
              "      <td>1</td>\n",
              "      <td>28</td>\n",
              "      <td>0</td>\n",
              "      <td>1-2 Tahun</td>\n",
              "      <td>Pernah</td>\n",
              "      <td>36571</td>\n",
              "      <td>124</td>\n",
              "      <td>70</td>\n",
              "      <td>0</td>\n",
              "    </tr>\n",
              "  </tbody>\n",
              "</table>\n",
              "</div>\n",
              "      <button class=\"colab-df-convert\" onclick=\"convertToInteractive('df-984b194a-c14f-45f5-a19b-f8ca4b9d1706')\"\n",
              "              title=\"Convert this dataframe to an interactive table.\"\n",
              "              style=\"display:none;\">\n",
              "        \n",
              "  <svg xmlns=\"http://www.w3.org/2000/svg\" height=\"24px\"viewBox=\"0 0 24 24\"\n",
              "       width=\"24px\">\n",
              "    <path d=\"M0 0h24v24H0V0z\" fill=\"none\"/>\n",
              "    <path d=\"M18.56 5.44l.94 2.06.94-2.06 2.06-.94-2.06-.94-.94-2.06-.94 2.06-2.06.94zm-11 1L8.5 8.5l.94-2.06 2.06-.94-2.06-.94L8.5 2.5l-.94 2.06-2.06.94zm10 10l.94 2.06.94-2.06 2.06-.94-2.06-.94-.94-2.06-.94 2.06-2.06.94z\"/><path d=\"M17.41 7.96l-1.37-1.37c-.4-.4-.92-.59-1.43-.59-.52 0-1.04.2-1.43.59L10.3 9.45l-7.72 7.72c-.78.78-.78 2.05 0 2.83L4 21.41c.39.39.9.59 1.41.59.51 0 1.02-.2 1.41-.59l7.78-7.78 2.81-2.81c.8-.78.8-2.07 0-2.86zM5.41 20L4 18.59l7.72-7.72 1.47 1.35L5.41 20z\"/>\n",
              "  </svg>\n",
              "      </button>\n",
              "      \n",
              "  <style>\n",
              "    .colab-df-container {\n",
              "      display:flex;\n",
              "      flex-wrap:wrap;\n",
              "      gap: 12px;\n",
              "    }\n",
              "\n",
              "    .colab-df-convert {\n",
              "      background-color: #E8F0FE;\n",
              "      border: none;\n",
              "      border-radius: 50%;\n",
              "      cursor: pointer;\n",
              "      display: none;\n",
              "      fill: #1967D2;\n",
              "      height: 32px;\n",
              "      padding: 0 0 0 0;\n",
              "      width: 32px;\n",
              "    }\n",
              "\n",
              "    .colab-df-convert:hover {\n",
              "      background-color: #E2EBFA;\n",
              "      box-shadow: 0px 1px 2px rgba(60, 64, 67, 0.3), 0px 1px 3px 1px rgba(60, 64, 67, 0.15);\n",
              "      fill: #174EA6;\n",
              "    }\n",
              "\n",
              "    [theme=dark] .colab-df-convert {\n",
              "      background-color: #3B4455;\n",
              "      fill: #D2E3FC;\n",
              "    }\n",
              "\n",
              "    [theme=dark] .colab-df-convert:hover {\n",
              "      background-color: #434B5C;\n",
              "      box-shadow: 0px 1px 3px 1px rgba(0, 0, 0, 0.15);\n",
              "      filter: drop-shadow(0px 1px 2px rgba(0, 0, 0, 0.3));\n",
              "      fill: #FFFFFF;\n",
              "    }\n",
              "  </style>\n",
              "\n",
              "      <script>\n",
              "        const buttonEl =\n",
              "          document.querySelector('#df-984b194a-c14f-45f5-a19b-f8ca4b9d1706 button.colab-df-convert');\n",
              "        buttonEl.style.display =\n",
              "          google.colab.kernel.accessAllowed ? 'block' : 'none';\n",
              "\n",
              "        async function convertToInteractive(key) {\n",
              "          const element = document.querySelector('#df-984b194a-c14f-45f5-a19b-f8ca4b9d1706');\n",
              "          const dataTable =\n",
              "            await google.colab.kernel.invokeFunction('convertToInteractive',\n",
              "                                                     [key], {});\n",
              "          if (!dataTable) return;\n",
              "\n",
              "          const docLinkHtml = 'Like what you see? Visit the ' +\n",
              "            '<a target=\"_blank\" href=https://colab.research.google.com/notebooks/data_table.ipynb>data table notebook</a>'\n",
              "            + ' to learn more about interactive tables.';\n",
              "          element.innerHTML = '';\n",
              "          dataTable['output_type'] = 'display_data';\n",
              "          await google.colab.output.renderOutput(dataTable, element);\n",
              "          const docLink = document.createElement('div');\n",
              "          docLink.innerHTML = docLinkHtml;\n",
              "          element.appendChild(docLink);\n",
              "        }\n",
              "      </script>\n",
              "    </div>\n",
              "  </div>\n",
              "  "
            ],
            "text/plain": [
              "      Jenis_Kelamin  Umur  SIM  ...  Kanal_Penjualan  Lama_Berlangganan Tertarik\n",
              "36149          Pria    24    1  ...              160                227        1\n",
              "16351        Wanita    23    1  ...              152                 45        0\n",
              "47076          Pria    41    1  ...              124                 22        1\n",
              "6976         Wanita    22    1  ...              152                 40        0\n",
              "33505        Wanita    43    1  ...              124                 70        0\n",
              "\n",
              "[5 rows x 11 columns]"
            ]
          },
          "metadata": {},
          "execution_count": 40
        }
      ],
      "source": [
        "# Import Dataset Test\n",
        "data_test = pd.read_csv(\"https://github.com/serlysetyani/gak-tau-apa/blob/main/kendaraan_test.csv?raw=true\")\n",
        "data_test.sample(5)"
      ]
    },
    {
      "cell_type": "code",
      "execution_count": 41,
      "metadata": {
        "colab": {
          "base_uri": "https://localhost:8080/"
        },
        "id": "nHmFA2sxR7ld",
        "outputId": "37dfd53d-ba6a-46a0-f924-0755e01de53d"
      },
      "outputs": [
        {
          "output_type": "stream",
          "name": "stdout",
          "text": [
            "Data Train:  (285831, 11) , Data Test:  (47639, 11)\n"
          ]
        }
      ],
      "source": [
        "# Pengecekan baris dan kolom pada dataset\n",
        "shape_train = drop_id_train.shape\n",
        "shape_test = data_test.shape\n",
        "print(\"Data Train: \", shape_train, \", Data Test: \", shape_test)"
      ]
    },
    {
      "cell_type": "code",
      "execution_count": 42,
      "metadata": {
        "colab": {
          "base_uri": "https://localhost:8080/"
        },
        "id": "GSyiN-tISipC",
        "outputId": "5bd73b06-7ce5-4d50-dabc-e50122a1b586"
      },
      "outputs": [
        {
          "output_type": "stream",
          "name": "stdout",
          "text": [
            "<class 'pandas.core.frame.DataFrame'>\n",
            "RangeIndex: 285831 entries, 0 to 285830\n",
            "Data columns (total 11 columns):\n",
            " #   Column             Non-Null Count   Dtype  \n",
            "---  ------             --------------   -----  \n",
            " 0   Jenis_Kelamin      271391 non-null  object \n",
            " 1   Umur               271617 non-null  float64\n",
            " 2   SIM                271427 non-null  float64\n",
            " 3   Kode_Daerah        271525 non-null  float64\n",
            " 4   Sudah_Asuransi     271602 non-null  float64\n",
            " 5   Umur_Kendaraan     271556 non-null  object \n",
            " 6   Kendaraan_Rusak    271643 non-null  object \n",
            " 7   Premi              271262 non-null  float64\n",
            " 8   Kanal_Penjualan    271532 non-null  float64\n",
            " 9   Lama_Berlangganan  271839 non-null  float64\n",
            " 10  Tertarik           285831 non-null  int64  \n",
            "dtypes: float64(7), int64(1), object(3)\n",
            "memory usage: 24.0+ MB\n"
          ]
        }
      ],
      "source": [
        "# Mendapatkan informasi pada masing masing kolom data train\n",
        "drop_id_train.info()"
      ]
    },
    {
      "cell_type": "code",
      "execution_count": 43,
      "metadata": {
        "colab": {
          "base_uri": "https://localhost:8080/"
        },
        "id": "YP1RibM2Y_At",
        "outputId": "aee98afc-71c3-4309-9e05-592e52f406c1"
      },
      "outputs": [
        {
          "output_type": "execute_result",
          "data": {
            "text/plain": [
              "Jenis_Kelamin        0\n",
              "Umur                 0\n",
              "SIM                  0\n",
              "Kode_Daerah          0\n",
              "Sudah_Asuransi       0\n",
              "Umur_Kendaraan       0\n",
              "Kendaraan_Rusak      0\n",
              "Premi                0\n",
              "Kanal_Penjualan      0\n",
              "Lama_Berlangganan    0\n",
              "Tertarik             0\n",
              "dtype: int64"
            ]
          },
          "metadata": {},
          "execution_count": 43
        }
      ],
      "source": [
        "# Drop baris yang memiliki nilai NaN pada dataset train\n",
        "df_train = drop_id_train.dropna()\n",
        "df_train.isna().sum()"
      ]
    },
    {
      "cell_type": "code",
      "execution_count": 44,
      "metadata": {
        "colab": {
          "base_uri": "https://localhost:8080/"
        },
        "id": "7v7uZW71Zh9a",
        "outputId": "4207323d-1d9f-4c9d-9577-62f97468a001"
      },
      "outputs": [
        {
          "output_type": "execute_result",
          "data": {
            "text/plain": [
              "51"
            ]
          },
          "metadata": {},
          "execution_count": 44
        }
      ],
      "source": [
        "# Pengecekkan data duplikat pada dataset train\n",
        "df_train.duplicated().sum()"
      ]
    },
    {
      "cell_type": "code",
      "execution_count": 45,
      "metadata": {
        "colab": {
          "base_uri": "https://localhost:8080/"
        },
        "id": "aGcrWoGgxlIK",
        "outputId": "33886ecd-4ba4-458d-8d79-8dac94ee14ec"
      },
      "outputs": [
        {
          "output_type": "execute_result",
          "data": {
            "text/plain": [
              "0"
            ]
          },
          "metadata": {},
          "execution_count": 45
        }
      ],
      "source": [
        "# Menghapus data duplikat pada dataset train\n",
        "df_train = df_train.drop_duplicates()\n",
        "df_train.duplicated().sum()"
      ]
    },
    {
      "cell_type": "code",
      "execution_count": 46,
      "metadata": {
        "colab": {
          "base_uri": "https://localhost:8080/"
        },
        "id": "YedJa81osLbZ",
        "outputId": "8b8f4b18-c737-4f2c-bc3a-513eaf504100"
      },
      "outputs": [
        {
          "output_type": "stream",
          "name": "stdout",
          "text": [
            "Data train:  171017\n",
            "Data test:  47639\n"
          ]
        }
      ],
      "source": [
        "# Mengecek banyak data pada masing masing dataset\n",
        "print(\"Data train: \", len(df_train))\n",
        "print(\"Data test: \", len(data_test))"
      ]
    },
    {
      "cell_type": "code",
      "execution_count": 47,
      "metadata": {
        "id": "aNmProTi4DWf"
      },
      "outputs": [],
      "source": [
        "# Label Encoding pada kolom yang bertipe object\n",
        "def label_encoding(column):\n",
        "    column['Jenis_Kelamin'].replace(to_replace = ['Wanita', 'Pria'], value =[0, 1], inplace=True)\n",
        "    column['Umur_Kendaraan'].replace(to_replace = ['< 1 Tahun', '1-2 Tahun', '> 2 Tahun'], value = [0, 1, 2], inplace=True)\n",
        "    column['Kendaraan_Rusak'].replace(to_replace = ['Tidak', 'Pernah'], value = [0, 1], inplace=True)\n",
        "\n",
        "label_encoding(df_train)\n",
        "label_encoding(data_test)"
      ]
    },
    {
      "cell_type": "code",
      "execution_count": 48,
      "metadata": {
        "id": "3IO9B3Uwndt9"
      },
      "outputs": [],
      "source": [
        "# Menggabungkan dataset train dan test\n",
        "# data_concat = pd.concat([df_train, data_test], axis=0).reset_index(drop=True)\n",
        "# print(\"Panjang record data concat: \", len(data_concat))"
      ]
    },
    {
      "cell_type": "code",
      "execution_count": 49,
      "metadata": {
        "colab": {
          "base_uri": "https://localhost:8080/",
          "height": 334
        },
        "id": "U_X2emPUitpW",
        "outputId": "37cb095d-5c98-4d7e-ffc6-c710e59aad25"
      },
      "outputs": [
        {
          "output_type": "display_data",
          "data": {
            "image/png": "[encoded data removed]",
            "text/plain": [
              "<Figure size 1152x360 with 1 Axes>"
            ]
          },
          "metadata": {
            "needs_background": "light"
          }
        }
      ],
      "source": [
        "warnings.filterwarnings('ignore')\n",
        "plt.figure(figsize=(16,5))\n",
        "sn.boxplot(df_train['Premi'])\n",
        "plt.show()"
      ]
    },
    {
      "cell_type": "code",
      "execution_count": 50,
      "metadata": {
        "colab": {
          "base_uri": "https://localhost:8080/"
        },
        "id": "88oPy1kph6xi",
        "outputId": "d0e1d4ba-e378-45be-f8a1-67cf9625f9d8"
      },
      "outputs": [
        {
          "output_type": "stream",
          "name": "stdout",
          "text": [
            "Kuartil 1:  24376.0 Kuartil 2:  31607.0 Kuartil 3:  39328.0\n",
            "Hasil IQR:  14952.0\n"
          ]
        }
      ],
      "source": [
        "# Proses IQR\n",
        "Q1 = np.percentile(df_train['Premi'], 25, interpolation = 'midpoint') \n",
        "Q2 = np.percentile(df_train['Premi'], 50, interpolation = 'midpoint')\n",
        "Q3 = np.percentile(df_train['Premi'], 75, interpolation = 'midpoint')\n",
        "print(\"Kuartil 1: \", Q1,\"Kuartil 2: \", Q2,\"Kuartil 3: \", Q3)\n",
        "\n",
        "IQR = Q3 - Q1 \n",
        "print(\"Hasil IQR: \", IQR)"
      ]
    },
    {
      "cell_type": "code",
      "execution_count": 51,
      "metadata": {
        "colab": {
          "base_uri": "https://localhost:8080/"
        },
        "id": "eQR5dejajDGs",
        "outputId": "215a146d-3bfd-46ad-8e33-9df685c6276b"
      },
      "outputs": [
        {
          "output_type": "stream",
          "name": "stdout",
          "text": [
            "Batas bawah:  1948.0\n",
            "Batas atas:  61756.0\n"
          ]
        }
      ],
      "source": [
        "# Data Trimming\n",
        "low_lim = Q1 - 1.5 * IQR\n",
        "up_lim = Q3 + 1.5 * IQR\n",
        "print('Batas bawah: ', low_lim)\n",
        "print('Batas atas: ', up_lim)"
      ]
    },
    {
      "cell_type": "code",
      "execution_count": 52,
      "metadata": {
        "colab": {
          "base_uri": "https://localhost:8080/",
          "height": 49
        },
        "id": "L0lpeyN9jLV2",
        "outputId": "a9d990bb-4dc0-4ba6-c82d-898a97a03153"
      },
      "outputs": [
        {
          "output_type": "execute_result",
          "data": {
            "text/html": [
              "\n",
              "  <div id=\"df-9ebaf37b-68d7-4188-a33d-16324a060b5e\">\n",
              "    <div class=\"colab-df-container\">\n",
              "      <div>\n",
              "<style scoped>\n",
              "    .dataframe tbody tr th:only-of-type {\n",
              "        vertical-align: middle;\n",
              "    }\n",
              "\n",
              "    .dataframe tbody tr th {\n",
              "        vertical-align: top;\n",
              "    }\n",
              "\n",
              "    .dataframe thead th {\n",
              "        text-align: right;\n",
              "    }\n",
              "</style>\n",
              "<table border=\"1\" class=\"dataframe\">\n",
              "  <thead>\n",
              "    <tr style=\"text-align: right;\">\n",
              "      <th></th>\n",
              "      <th>Jenis_Kelamin</th>\n",
              "      <th>Umur</th>\n",
              "      <th>SIM</th>\n",
              "      <th>Kode_Daerah</th>\n",
              "      <th>Sudah_Asuransi</th>\n",
              "      <th>Umur_Kendaraan</th>\n",
              "      <th>Kendaraan_Rusak</th>\n",
              "      <th>Premi</th>\n",
              "      <th>Kanal_Penjualan</th>\n",
              "      <th>Lama_Berlangganan</th>\n",
              "      <th>Tertarik</th>\n",
              "    </tr>\n",
              "  </thead>\n",
              "  <tbody>\n",
              "  </tbody>\n",
              "</table>\n",
              "</div>\n",
              "      <button class=\"colab-df-convert\" onclick=\"convertToInteractive('df-9ebaf37b-68d7-4188-a33d-16324a060b5e')\"\n",
              "              title=\"Convert this dataframe to an interactive table.\"\n",
              "              style=\"display:none;\">\n",
              "        \n",
              "  <svg xmlns=\"http://www.w3.org/2000/svg\" height=\"24px\"viewBox=\"0 0 24 24\"\n",
              "       width=\"24px\">\n",
              "    <path d=\"M0 0h24v24H0V0z\" fill=\"none\"/>\n",
              "    <path d=\"M18.56 5.44l.94 2.06.94-2.06 2.06-.94-2.06-.94-.94-2.06-.94 2.06-2.06.94zm-11 1L8.5 8.5l.94-2.06 2.06-.94-2.06-.94L8.5 2.5l-.94 2.06-2.06.94zm10 10l.94 2.06.94-2.06 2.06-.94-2.06-.94-.94-2.06-.94 2.06-2.06.94z\"/><path d=\"M17.41 7.96l-1.37-1.37c-.4-.4-.92-.59-1.43-.59-.52 0-1.04.2-1.43.59L10.3 9.45l-7.72 7.72c-.78.78-.78 2.05 0 2.83L4 21.41c.39.39.9.59 1.41.59.51 0 1.02-.2 1.41-.59l7.78-7.78 2.81-2.81c.8-.78.8-2.07 0-2.86zM5.41 20L4 18.59l7.72-7.72 1.47 1.35L5.41 20z\"/>\n",
              "  </svg>\n",
              "      </button>\n",
              "      \n",
              "  <style>\n",
              "    .colab-df-container {\n",
              "      display:flex;\n",
              "      flex-wrap:wrap;\n",
              "      gap: 12px;\n",
              "    }\n",
              "\n",
              "    .colab-df-convert {\n",
              "      background-color: #E8F0FE;\n",
              "      border: none;\n",
              "      border-radius: 50%;\n",
              "      cursor: pointer;\n",
              "      display: none;\n",
              "      fill: #1967D2;\n",
              "      height: 32px;\n",
              "      padding: 0 0 0 0;\n",
              "      width: 32px;\n",
              "    }\n",
              "\n",
              "    .colab-df-convert:hover {\n",
              "      background-color: #E2EBFA;\n",
              "      box-shadow: 0px 1px 2px rgba(60, 64, 67, 0.3), 0px 1px 3px 1px rgba(60, 64, 67, 0.15);\n",
              "      fill: #174EA6;\n",
              "    }\n",
              "\n",
              "    [theme=dark] .colab-df-convert {\n",
              "      background-color: #3B4455;\n",
              "      fill: #D2E3FC;\n",
              "    }\n",
              "\n",
              "    [theme=dark] .colab-df-convert:hover {\n",
              "      background-color: #434B5C;\n",
              "      box-shadow: 0px 1px 3px 1px rgba(0, 0, 0, 0.15);\n",
              "      filter: drop-shadow(0px 1px 2px rgba(0, 0, 0, 0.3));\n",
              "      fill: #FFFFFF;\n",
              "    }\n",
              "  </style>\n",
              "\n",
              "      <script>\n",
              "        const buttonEl =\n",
              "          document.querySelector('#df-9ebaf37b-68d7-4188-a33d-16324a060b5e button.colab-df-convert');\n",
              "        buttonEl.style.display =\n",
              "          google.colab.kernel.accessAllowed ? 'block' : 'none';\n",
              "\n",
              "        async function convertToInteractive(key) {\n",
              "          const element = document.querySelector('#df-9ebaf37b-68d7-4188-a33d-16324a060b5e');\n",
              "          const dataTable =\n",
              "            await google.colab.kernel.invokeFunction('convertToInteractive',\n",
              "                                                     [key], {});\n",
              "          if (!dataTable) return;\n",
              "\n",
              "          const docLinkHtml = 'Like what you see? Visit the ' +\n",
              "            '<a target=\"_blank\" href=https://colab.research.google.com/notebooks/data_table.ipynb>data table notebook</a>'\n",
              "            + ' to learn more about interactive tables.';\n",
              "          element.innerHTML = '';\n",
              "          dataTable['output_type'] = 'display_data';\n",
              "          await google.colab.output.renderOutput(dataTable, element);\n",
              "          const docLink = document.createElement('div');\n",
              "          docLink.innerHTML = docLinkHtml;\n",
              "          element.appendChild(docLink);\n",
              "        }\n",
              "      </script>\n",
              "    </div>\n",
              "  </div>\n",
              "  "
            ],
            "text/plain": [
              "Empty DataFrame\n",
              "Columns: [Jenis_Kelamin, Umur, SIM, Kode_Daerah, Sudah_Asuransi, Umur_Kendaraan, Kendaraan_Rusak, Premi, Kanal_Penjualan, Lama_Berlangganan, Tertarik]\n",
              "Index: []"
            ]
          },
          "metadata": {},
          "execution_count": 52
        }
      ],
      "source": [
        "df_train[df_train['Premi'] > up_lim]\n",
        "df_train[df_train['Premi'] < low_lim]"
      ]
    },
    {
      "cell_type": "code",
      "execution_count": 53,
      "metadata": {
        "colab": {
          "base_uri": "https://localhost:8080/"
        },
        "id": "oO-Ti_x2j7b5",
        "outputId": "e31beb6e-5de9-488a-e0b0-64602769ffc1"
      },
      "outputs": [
        {
          "output_type": "stream",
          "name": "stdout",
          "text": [
            "Shape data concat:  (166345, 11)\n"
          ]
        }
      ],
      "source": [
        "# Menghitung banyak data setelah menghapus outlier\n",
        "data = df_train[df_train['Premi'] < up_lim]\n",
        "print(\"Shape data concat: \", data.shape)"
      ]
    },
    {
      "cell_type": "code",
      "execution_count": 54,
      "metadata": {
        "id": "cYw00oep9rCg"
      },
      "outputs": [],
      "source": [
        "new_df_cap = data.copy()\n",
        "new_df_cap['Premi'] = np.where(\n",
        "    new_df_cap['Premi'] > up_lim,\n",
        "    up_lim,\n",
        "    np.where(\n",
        "        new_df_cap['Premi'] < low_lim,\n",
        "        low_lim,\n",
        "        new_df_cap['Premi']\n",
        "    )\n",
        ")"
      ]
    },
    {
      "cell_type": "code",
      "execution_count": 55,
      "metadata": {
        "colab": {
          "base_uri": "https://localhost:8080/",
          "height": 508
        },
        "id": "m1Mz8LJdkETJ",
        "outputId": "5bd44037-ca0b-4776-d39b-c7eb8506cfb3"
      },
      "outputs": [
        {
          "output_type": "display_data",
          "data": {
            "image/png": "[encoded data removed]",
            "text/plain": [
              "<Figure size 1152x576 with 4 Axes>"
            ]
          },
          "metadata": {
            "needs_background": "light"
          }
        }
      ],
      "source": [
        "# Perbandingan kolom Premi sebelum dan sesudah trimming outlier \n",
        "plt.figure(figsize=(16,8))\n",
        "plt.subplot(2,2,1)\n",
        "sn.distplot(df_train['Premi'])\n",
        "plt.subplot(2,2,2)\n",
        "sn.boxplot(df_train['Premi'])\n",
        "plt.subplot(2,2,3)\n",
        "sn.distplot(data['Premi'])\n",
        "plt.subplot(2,2,4)\n",
        "sn.boxplot(data['Premi'])\n",
        "plt.show()"
      ]
    },
    {
      "cell_type": "code",
      "execution_count": 56,
      "metadata": {
        "colab": {
          "base_uri": "https://localhost:8080/",
          "height": 416
        },
        "id": "j57_XLkCP1AA",
        "outputId": "8d541af1-1a72-4fbe-cad8-272a1297de07"
      },
      "outputs": [
        {
          "output_type": "display_data",
          "data": {
            "image/png": "[encoded data removed]",
            "text/plain": [
              "<Figure size 1152x360 with 2 Axes>"
            ]
          },
          "metadata": {
            "needs_background": "light"
          }
        }
      ],
      "source": [
        "# Korelasi antar kolom\n",
        "corr_train = data.corr()\n",
        "plt.figure(figsize = (16,5))\n",
        "heatmap_train = sn.heatmap(corr_train, annot=True, cmap=\"Purples\")\n",
        "plt.show()"
      ]
    },
    {
      "cell_type": "code",
      "execution_count": 57,
      "metadata": {
        "colab": {
          "base_uri": "https://localhost:8080/",
          "height": 206
        },
        "id": "H8Ynz1cFJXgg",
        "outputId": "7e321547-38a6-42df-8d63-25211990185f"
      },
      "outputs": [
        {
          "output_type": "execute_result",
          "data": {
            "text/html": [
              "\n",
              "  <div id=\"df-674548c2-36db-4c90-8357-18b7ebf4f7ca\">\n",
              "    <div class=\"colab-df-container\">\n",
              "      <div>\n",
              "<style scoped>\n",
              "    .dataframe tbody tr th:only-of-type {\n",
              "        vertical-align: middle;\n",
              "    }\n",
              "\n",
              "    .dataframe tbody tr th {\n",
              "        vertical-align: top;\n",
              "    }\n",
              "\n",
              "    .dataframe thead th {\n",
              "        text-align: right;\n",
              "    }\n",
              "</style>\n",
              "<table border=\"1\" class=\"dataframe\">\n",
              "  <thead>\n",
              "    <tr style=\"text-align: right;\">\n",
              "      <th></th>\n",
              "      <th>Jenis_Kelamin</th>\n",
              "      <th>Umur</th>\n",
              "      <th>SIM</th>\n",
              "      <th>Kode_Daerah</th>\n",
              "      <th>Sudah_Asuransi</th>\n",
              "      <th>Umur_Kendaraan</th>\n",
              "      <th>Kendaraan_Rusak</th>\n",
              "      <th>Premi</th>\n",
              "      <th>Kanal_Penjualan</th>\n",
              "      <th>Lama_Berlangganan</th>\n",
              "      <th>Tertarik</th>\n",
              "    </tr>\n",
              "  </thead>\n",
              "  <tbody>\n",
              "    <tr>\n",
              "      <th>0</th>\n",
              "      <td>0.0</td>\n",
              "      <td>0.153846</td>\n",
              "      <td>1.0</td>\n",
              "      <td>0.634615</td>\n",
              "      <td>1.0</td>\n",
              "      <td>0.0</td>\n",
              "      <td>0.0</td>\n",
              "      <td>0.429632</td>\n",
              "      <td>0.932099</td>\n",
              "      <td>0.301038</td>\n",
              "      <td>0.0</td>\n",
              "    </tr>\n",
              "    <tr>\n",
              "      <th>1</th>\n",
              "      <td>1.0</td>\n",
              "      <td>0.430769</td>\n",
              "      <td>1.0</td>\n",
              "      <td>0.750000</td>\n",
              "      <td>0.0</td>\n",
              "      <td>1.0</td>\n",
              "      <td>1.0</td>\n",
              "      <td>0.391928</td>\n",
              "      <td>0.172840</td>\n",
              "      <td>0.512111</td>\n",
              "      <td>0.0</td>\n",
              "    </tr>\n",
              "    <tr>\n",
              "      <th>3</th>\n",
              "      <td>0.0</td>\n",
              "      <td>0.584615</td>\n",
              "      <td>1.0</td>\n",
              "      <td>0.923077</td>\n",
              "      <td>0.0</td>\n",
              "      <td>0.5</td>\n",
              "      <td>0.0</td>\n",
              "      <td>0.000000</td>\n",
              "      <td>0.759259</td>\n",
              "      <td>0.183391</td>\n",
              "      <td>0.0</td>\n",
              "    </tr>\n",
              "    <tr>\n",
              "      <th>5</th>\n",
              "      <td>1.0</td>\n",
              "      <td>0.015385</td>\n",
              "      <td>1.0</td>\n",
              "      <td>0.673077</td>\n",
              "      <td>1.0</td>\n",
              "      <td>0.0</td>\n",
              "      <td>0.0</td>\n",
              "      <td>0.340083</td>\n",
              "      <td>0.932099</td>\n",
              "      <td>0.557093</td>\n",
              "      <td>0.0</td>\n",
              "    </tr>\n",
              "    <tr>\n",
              "      <th>8</th>\n",
              "      <td>0.0</td>\n",
              "      <td>0.000000</td>\n",
              "      <td>1.0</td>\n",
              "      <td>0.153846</td>\n",
              "      <td>1.0</td>\n",
              "      <td>0.0</td>\n",
              "      <td>0.0</td>\n",
              "      <td>0.476268</td>\n",
              "      <td>0.981481</td>\n",
              "      <td>0.072664</td>\n",
              "      <td>0.0</td>\n",
              "    </tr>\n",
              "  </tbody>\n",
              "</table>\n",
              "</div>\n",
              "      <button class=\"colab-df-convert\" onclick=\"convertToInteractive('df-674548c2-36db-4c90-8357-18b7ebf4f7ca')\"\n",
              "              title=\"Convert this dataframe to an interactive table.\"\n",
              "              style=\"display:none;\">\n",
              "        \n",
              "  <svg xmlns=\"http://www.w3.org/2000/svg\" height=\"24px\"viewBox=\"0 0 24 24\"\n",
              "       width=\"24px\">\n",
              "    <path d=\"M0 0h24v24H0V0z\" fill=\"none\"/>\n",
              "    <path d=\"M18.56 5.44l.94 2.06.94-2.06 2.06-.94-2.06-.94-.94-2.06-.94 2.06-2.06.94zm-11 1L8.5 8.5l.94-2.06 2.06-.94-2.06-.94L8.5 2.5l-.94 2.06-2.06.94zm10 10l.94 2.06.94-2.06 2.06-.94-2.06-.94-.94-2.06-.94 2.06-2.06.94z\"/><path d=\"M17.41 7.96l-1.37-1.37c-.4-.4-.92-.59-1.43-.59-.52 0-1.04.2-1.43.59L10.3 9.45l-7.72 7.72c-.78.78-.78 2.05 0 2.83L4 21.41c.39.39.9.59 1.41.59.51 0 1.02-.2 1.41-.59l7.78-7.78 2.81-2.81c.8-.78.8-2.07 0-2.86zM5.41 20L4 18.59l7.72-7.72 1.47 1.35L5.41 20z\"/>\n",
              "  </svg>\n",
              "      </button>\n",
              "      \n",
              "  <style>\n",
              "    .colab-df-container {\n",
              "      display:flex;\n",
              "      flex-wrap:wrap;\n",
              "      gap: 12px;\n",
              "    }\n",
              "\n",
              "    .colab-df-convert {\n",
              "      background-color: #E8F0FE;\n",
              "      border: none;\n",
              "      border-radius: 50%;\n",
              "      cursor: pointer;\n",
              "      display: none;\n",
              "      fill: #1967D2;\n",
              "      height: 32px;\n",
              "      padding: 0 0 0 0;\n",
              "      width: 32px;\n",
              "    }\n",
              "\n",
              "    .colab-df-convert:hover {\n",
              "      background-color: #E2EBFA;\n",
              "      box-shadow: 0px 1px 2px rgba(60, 64, 67, 0.3), 0px 1px 3px 1px rgba(60, 64, 67, 0.15);\n",
              "      fill: #174EA6;\n",
              "    }\n",
              "\n",
              "    [theme=dark] .colab-df-convert {\n",
              "      background-color: #3B4455;\n",
              "      fill: #D2E3FC;\n",
              "    }\n",
              "\n",
              "    [theme=dark] .colab-df-convert:hover {\n",
              "      background-color: #434B5C;\n",
              "      box-shadow: 0px 1px 3px 1px rgba(0, 0, 0, 0.15);\n",
              "      filter: drop-shadow(0px 1px 2px rgba(0, 0, 0, 0.3));\n",
              "      fill: #FFFFFF;\n",
              "    }\n",
              "  </style>\n",
              "\n",
              "      <script>\n",
              "        const buttonEl =\n",
              "          document.querySelector('#df-674548c2-36db-4c90-8357-18b7ebf4f7ca button.colab-df-convert');\n",
              "        buttonEl.style.display =\n",
              "          google.colab.kernel.accessAllowed ? 'block' : 'none';\n",
              "\n",
              "        async function convertToInteractive(key) {\n",
              "          const element = document.querySelector('#df-674548c2-36db-4c90-8357-18b7ebf4f7ca');\n",
              "          const dataTable =\n",
              "            await google.colab.kernel.invokeFunction('convertToInteractive',\n",
              "                                                     [key], {});\n",
              "          if (!dataTable) return;\n",
              "\n",
              "          const docLinkHtml = 'Like what you see? Visit the ' +\n",
              "            '<a target=\"_blank\" href=https://colab.research.google.com/notebooks/data_table.ipynb>data table notebook</a>'\n",
              "            + ' to learn more about interactive tables.';\n",
              "          element.innerHTML = '';\n",
              "          dataTable['output_type'] = 'display_data';\n",
              "          await google.colab.output.renderOutput(dataTable, element);\n",
              "          const docLink = document.createElement('div');\n",
              "          docLink.innerHTML = docLinkHtml;\n",
              "          element.appendChild(docLink);\n",
              "        }\n",
              "      </script>\n",
              "    </div>\n",
              "  </div>\n",
              "  "
            ],
            "text/plain": [
              "   Jenis_Kelamin      Umur  SIM  ...  Kanal_Penjualan  Lama_Berlangganan  Tertarik\n",
              "0            0.0  0.153846  1.0  ...         0.932099           0.301038       0.0\n",
              "1            1.0  0.430769  1.0  ...         0.172840           0.512111       0.0\n",
              "3            0.0  0.584615  1.0  ...         0.759259           0.183391       0.0\n",
              "5            1.0  0.015385  1.0  ...         0.932099           0.557093       0.0\n",
              "8            0.0  0.000000  1.0  ...         0.981481           0.072664       0.0\n",
              "\n",
              "[5 rows x 11 columns]"
            ]
          },
          "metadata": {},
          "execution_count": 57
        }
      ],
      "source": [
        "# Normalisasi data dengan minmax scaler\n",
        "norm_data_train = (data - data.min()) / (data.max() - data.min())\n",
        "norm_data_train.head(5)"
      ]
    },
    {
      "cell_type": "code",
      "execution_count": 58,
      "metadata": {
        "colab": {
          "base_uri": "https://localhost:8080/"
        },
        "id": "gN_Z4rT36Fpj",
        "outputId": "20acfc3a-81c8-4a8f-c3c8-7a64c1843328"
      },
      "outputs": [
        {
          "output_type": "execute_result",
          "data": {
            "text/plain": [
              "Sudah_Asuransi      -0.340709\n",
              "Kanal_Penjualan     -0.139136\n",
              "Lama_Berlangganan    0.001808\n",
              "SIM                  0.008333\n",
              "Kode_Daerah          0.010481\n",
              "Premi                0.019592\n",
              "Jenis_Kelamin        0.053497\n",
              "Umur                 0.108777\n",
              "Umur_Kendaraan       0.220512\n",
              "Kendaraan_Rusak      0.353415\n",
              "Tertarik             1.000000\n",
              "Name: Tertarik, dtype: float64"
            ]
          },
          "metadata": {},
          "execution_count": 58
        }
      ],
      "source": [
        "norm_data_train.corr()['Tertarik'].sort_values()\n",
        "#Independent Features: \"Kendaraan_Rusak\" & \"Umur_Kendaraan\"\n",
        "#Dependent Feature: \"Tertarik\""
      ]
    },
    {
      "cell_type": "code",
      "execution_count": 59,
      "metadata": {
        "colab": {
          "base_uri": "https://localhost:8080/",
          "height": 438
        },
        "id": "bM_PKd98XjSb",
        "outputId": "d3bc1628-b02d-44a0-d610-dcfac2d04821"
      },
      "outputs": [
        {
          "output_type": "stream",
          "name": "stdout",
          "text": [
            "0    146215\n",
            "1     20130\n",
            "Name: Tertarik, dtype: int64\n"
          ]
        },
        {
          "output_type": "execute_result",
          "data": {
            "text/plain": [
              "<seaborn.axisgrid.FacetGrid at 0x7f9ebf099890>"
            ]
          },
          "metadata": {},
          "execution_count": 59
        },
        {
          "output_type": "display_data",
          "data": {
            "image/png": "[encoded data removed]",
            "text/plain": [
              "<Figure size 360x360 with 1 Axes>"
            ]
          },
          "metadata": {
            "needs_background": "light"
          }
        }
      ],
      "source": [
        "print(data['Tertarik'].value_counts())\n",
        "sn.catplot(x = 'Tertarik', data=data, kind = 'count')"
      ]
    },
    {
      "cell_type": "code",
      "execution_count": 60,
      "metadata": {
        "id": "Ke0UeyTld5mK"
      },
      "outputs": [],
      "source": [
        "# SMOTE untuk imbalance data pada kolom tertarik\n",
        "x_data = data.drop(\"Tertarik\", axis=1)\n",
        "y_data = data[\"Tertarik\"]\n",
        "\n",
        "smote = SMOTE()\n",
        "x_data, y_data = smote.fit_resample(x_data, y_data)"
      ]
    },
    {
      "cell_type": "code",
      "execution_count": 61,
      "metadata": {
        "colab": {
          "base_uri": "https://localhost:8080/",
          "height": 296
        },
        "id": "h5CALTYYebdd",
        "outputId": "6920a27b-9b90-4175-bd3c-991cc02ae291"
      },
      "outputs": [
        {
          "output_type": "execute_result",
          "data": {
            "text/plain": [
              "<matplotlib.axes._subplots.AxesSubplot at 0x7f9ebf05eb50>"
            ]
          },
          "metadata": {},
          "execution_count": 61
        },
        {
          "output_type": "display_data",
          "data": {
            "image/png": "[encoded data removed]",
            "text/plain": [
              "<Figure size 432x288 with 1 Axes>"
            ]
          },
          "metadata": {
            "needs_background": "light"
          }
        }
      ],
      "source": [
        "sn.countplot(y_data)"
      ]
    },
    {
      "cell_type": "markdown",
      "metadata": {
        "id": "7sjdcI-sQ690"
      },
      "source": [
        "# Data Splitting"
      ]
    },
    {
      "cell_type": "code",
      "execution_count": 62,
      "metadata": {
        "colab": {
          "base_uri": "https://localhost:8080/"
        },
        "id": "DfsyvTXOQ-ys",
        "outputId": "3586415a-ed97-4003-8889-a89101ada16a"
      },
      "outputs": [
        {
          "output_type": "stream",
          "name": "stdout",
          "text": [
            "Training set size : 116441\n",
            "Testing set size : 14291\n"
          ]
        }
      ],
      "source": [
        "# Data Splitting 30%\n",
        "train_size = int(0.70 * data.shape[0])\n",
        "test_size = int(0.30 * data_test.shape[0])\n",
        "print(\"Training set size : \"  + str(train_size))\n",
        "print(\"Testing set size : \" + str(test_size))"
      ]
    },
    {
      "cell_type": "code",
      "source": [
        "# Feature Selection pada kolom umur kendaraan, kendaraan rusak, dan tertarik\n",
        "data = data.sample(frac = 1)\n",
        "X = data.iloc[:, [6, 7]].values\n",
        "y = data.iloc[:, 10].values\n",
        "X = X.astype(float)"
      ],
      "metadata": {
        "id": "7i_--JtLDOH5"
      },
      "execution_count": 63,
      "outputs": []
    },
    {
      "cell_type": "code",
      "source": [
        "data_test = data_test.sample(frac = 1)\n",
        "X_test = data_test.iloc[:, [6, 7]].values\n",
        "y_test = data_test.iloc[:, 10].values\n",
        "X_test = X_test.astype(float)"
      ],
      "metadata": {
        "id": "v2OTtLv9eTbW"
      },
      "execution_count": 64,
      "outputs": []
    },
    {
      "cell_type": "code",
      "source": [
        "x_train = X[0:train_size, :]\n",
        "y_train = y[0:train_size]"
      ],
      "metadata": {
        "id": "gJoeE8VXDl5E"
      },
      "execution_count": 65,
      "outputs": []
    },
    {
      "cell_type": "code",
      "source": [
        "x_test = X_test[0:test_size, :]\n",
        "y_test = y_test[0:test_size]"
      ],
      "metadata": {
        "id": "HvNQU5bSDuSK"
      },
      "execution_count": 66,
      "outputs": []
    },
    {
      "cell_type": "code",
      "source": [
        "x_set, y_set = x_train, y_train\n",
        "for i, j in enumerate(np.unique(y_set)):\n",
        "    plt.scatter(x_set[y_set == j, 0], x_set[y_set == j, 1],\n",
        "                c = ListedColormap(('red', 'green'))(i), label = j,marker='.')\n",
        "plt.title('Training set')"
      ],
      "metadata": {
        "colab": {
          "base_uri": "https://localhost:8080/",
          "height": 353
        },
        "id": "C8gXIgaYD5KX",
        "outputId": "29d5acbd-d5ad-4770-b76b-c1f43654f858"
      },
      "execution_count": 68,
      "outputs": [
        {
          "output_type": "stream",
          "name": "stderr",
          "text": [
            "*c* argument looks like a single numeric RGB or RGBA sequence, which should be avoided as value-mapping will have precedence in case its length matches with *x* & *y*.  Please use the *color* keyword-argument or provide a 2-D array with a single row if you intend to specify the same RGB or RGBA value for all points.\n",
            "*c* argument looks like a single numeric RGB or RGBA sequence, which should be avoided as value-mapping will have precedence in case its length matches with *x* & *y*.  Please use the *color* keyword-argument or provide a 2-D array with a single row if you intend to specify the same RGB or RGBA value for all points.\n"
          ]
        },
        {
          "output_type": "execute_result",
          "data": {
            "text/plain": [
              "Text(0.5, 1.0, 'Training set')"
            ]
          },
          "metadata": {},
          "execution_count": 68
        },
        {
          "output_type": "display_data",
          "data": {
            "image/png": "[encoded data removed]",
            "text/plain": [
              "<Figure size 432x288 with 1 Axes>"
            ]
          },
          "metadata": {
            "needs_background": "light"
          }
        }
      ]
    },
    {
      "cell_type": "markdown",
      "metadata": {
        "id": "oWqacw8DoP2x"
      },
      "source": [
        "# Modelling"
      ]
    },
    {
      "cell_type": "code",
      "execution_count": 69,
      "metadata": {
        "id": "NWHreq1en9vW"
      },
      "outputs": [],
      "source": [
        "class naiveBayes():\n",
        "  def __init__(self):\n",
        "    self.dictData = {}\n",
        "  \n",
        "  def fit (self, trainX, trainY):\n",
        "    def generateData (dictData, trainX, trainY):\n",
        "      one = True\n",
        "      zero = True\n",
        "      for i in range (trainY.shape[0]):\n",
        "        tempX = trainX[i,:].reshape(trainX[i,:].shape[0],1)\n",
        "        if trainY[i] == 1:\n",
        "          if one == True:\n",
        "            dictData[1] = tempX\n",
        "            one = False\n",
        "          else:\n",
        "            dictData[1] = np.append(dictData[1], tempX, axis = 1)\n",
        "\n",
        "        elif trainY[i] == 0:\n",
        "          if zero == True:\n",
        "            dictData[0] = tempX\n",
        "            zero = False\n",
        "          else:\n",
        "            dictData[0] = np.append(dictData[0], tempX, axis = 1)\n",
        "      return dictData\n",
        "\n",
        "    self.trainX = trainX\n",
        "    self.trainY = trainY\n",
        "    self.dictData[0] = np.array([[]])\n",
        "    self.dictData[1] = np.array([[]])\n",
        "    self.dictData = generateData (self.dictData, self.trainX, self.trainY)\n",
        "    self.dictData[0] = self.dictData[0].T\n",
        "    self.dictData[1] = self.dictData[1].T\n",
        "    self.mean1 = np.mean(self.dictData[0], axis = 0)\n",
        "    self.mean2 = np.mean(self.dictData[1], axis = 0)\n",
        "    self.std1 = np.std(self.dictData[0], axis = 0)\n",
        "    self.std2 = np.std(self.dictData[1], axis = 0)\n",
        "\n",
        "  def prediksi (self, testX):\n",
        "    def posterior (x, trainXclass, mean, std):\n",
        "      def probability (x, mean, sigma):\n",
        "        return np.exp(- (x - mean) ** 2 / (2 * sigma ** 2)) * (1 / (np.sqrt (2 * np.pi) * sigma))\n",
        "\n",
        "      prd = np.prod(probability(x, mean, std), axis = 1)\n",
        "      prd = prd * (trainXclass.shape[0] / self.trainX.shape[0])\n",
        "      return prd\n",
        "\n",
        "    p2 = posterior(testX, self.dictData[1], self.mean2, self.std2)\n",
        "    p1 = posterior(testX, self.dictData[0], self.mean1, self.std1)\n",
        "    return 1 * (p2 > p1)"
      ]
    },
    {
      "cell_type": "markdown",
      "source": [
        "# Evaluasi"
      ],
      "metadata": {
        "id": "CNjNTY-ovtXF"
      }
    },
    {
      "cell_type": "code",
      "execution_count": 70,
      "metadata": {
        "colab": {
          "base_uri": "https://localhost:8080/"
        },
        "id": "lEZ1MmM2iTQH",
        "outputId": "d5166821-dfd3-429d-8fef-7ab8452922f6"
      },
      "outputs": [
        {
          "output_type": "stream",
          "name": "stdout",
          "text": [
            "Accuracy   : 0.8389195997480932\n"
          ]
        }
      ],
      "source": [
        "trainX = x_train\n",
        "trainY = y_train\n",
        "testX = x_test\n",
        "testY = y_test\n",
        "\n",
        "nb = naiveBayes()\n",
        "nb.fit(trainX, trainY)\n",
        "predictY = nb.prediksi(testX)\n",
        "\n",
        "confMatrix = confusion_matrix(testY, predictY)\n",
        "print(\"Accuracy   :\", acc(y_test, predictY))"
      ]
    },
    {
      "cell_type": "code",
      "source": [
        "group_names = ['True Neg','False Pos','False Neg','True Pos']\n",
        "group_counts = ['{0:0.0f}'.format(value) for value in\n",
        "                confMatrix.flatten()]\n",
        "group_percentages = ['{0:.2%}'.format(value) for value in\n",
        "                     confMatrix.flatten()/np.sum(confMatrix)]\n",
        "labels = [f'{v1}\\n{v2}\\n{v3}' for v1, v2, v3 in\n",
        "          zip(group_names,group_counts,group_percentages)]\n",
        "labels = np.asarray(labels).reshape(2,2)\n",
        "\n",
        "plt.title('Confusion Matrix')\n",
        "sn.heatmap(confMatrix, annot=labels, fmt='', cmap='Blues')"
      ],
      "metadata": {
        "colab": {
          "base_uri": "https://localhost:8080/",
          "height": 298
        },
        "id": "gmiQXvgCfm0F",
        "outputId": "af3cda1f-b4f7-4338-c873-f74f6f778262"
      },
      "execution_count": 71,
      "outputs": [
        {
          "output_type": "execute_result",
          "data": {
            "text/plain": [
              "<matplotlib.axes._subplots.AxesSubplot at 0x7f9ebef5b5d0>"
            ]
          },
          "metadata": {},
          "execution_count": 71
        },
        {
          "output_type": "display_data",
          "data": {
            "image/png": "[encoded data removed]",
            "text/plain": [
              "<Figure size 432x288 with 2 Axes>"
            ]
          },
          "metadata": {
            "needs_background": "light"
          }
        }
      ]
    },
    {
      "cell_type": "code",
      "source": [
        "# Visualising the Training set results\n",
        "from matplotlib.colors import ListedColormap\n",
        "setX, setY = x_train, y_train\n",
        "X1, X2 = np.meshgrid(np.arange(start = setX[:, 0].min() - 1, stop = setX[:, 0].max() + 1, step = 0.1),\n",
        "                     np.arange(start = setX[:, 1].min() - 1, stop = setX[:, 1].max() + 1, step = 0.1))\n",
        "plt.contourf(X1, X2, nb.prediksi(np.array([X1.ravel(), X2.ravel()]).T).reshape(X1.shape),\n",
        "             alpha = 0.75, cmap = ListedColormap(('orange', 'green')))\n",
        "plt.xlim(X1.min(), X1.max())\n",
        "plt.ylim(X2.min(), X2.max())\n",
        "for i, j in enumerate(np.unique(setY)):\n",
        "    plt.scatter(setX[setY == j, 0], setX[setY == j, 1],\n",
        "                c = ListedColormap(('red', 'green'))(i), label = j,marker='.')\n",
        "plt.title('Naive Bayes (Data Training)')\n",
        "plt.legend()\n",
        "plt.show()"
      ],
      "metadata": {
        "colab": {
          "base_uri": "https://localhost:8080/",
          "height": 336
        },
        "id": "aneucYpR7ESo",
        "outputId": "efc03afd-cc20-4234-92aa-a5fc2ad2cb20"
      },
      "execution_count": 72,
      "outputs": [
        {
          "output_type": "stream",
          "name": "stderr",
          "text": [
            "*c* argument looks like a single numeric RGB or RGBA sequence, which should be avoided as value-mapping will have precedence in case its length matches with *x* & *y*.  Please use the *color* keyword-argument or provide a 2-D array with a single row if you intend to specify the same RGB or RGBA value for all points.\n",
            "*c* argument looks like a single numeric RGB or RGBA sequence, which should be avoided as value-mapping will have precedence in case its length matches with *x* & *y*.  Please use the *color* keyword-argument or provide a 2-D array with a single row if you intend to specify the same RGB or RGBA value for all points.\n"
          ]
        },
        {
          "output_type": "display_data",
          "data": {
            "image/png": "[encoded data removed]",
            "text/plain": [
              "<Figure size 432x288 with 1 Axes>"
            ]
          },
          "metadata": {
            "needs_background": "light"
          }
        }
      ]
    },
    {
      "cell_type": "markdown",
      "metadata": {
        "id": "CTx6EKBVsuGq"
      },
      "source": [
        "# Eksplorasi\n"
      ]
    },
    {
      "cell_type": "code",
      "execution_count": 73,
      "metadata": {
        "id": "JmqWn7FY0XJG",
        "colab": {
          "base_uri": "https://localhost:8080/"
        },
        "outputId": "34c3e4e2-500f-4286-9bc7-fc3b28fbd4e3"
      },
      "outputs": [
        {
          "output_type": "stream",
          "name": "stdout",
          "text": [
            "Decision Tree Score Result\n",
            "Accuracy   : 0.8767755930305787\n"
          ]
        }
      ],
      "source": [
        "# Klasifikasi dengan algortima Decision Tree\n",
        "decision_tree = DecisionTreeClassifier(criterion='entropy', max_depth=5)\n",
        "decision_tree = decision_tree.fit(x_train, y_train)\n",
        "result_decision_tree = decision_tree.predict(x_test)\n",
        "\n",
        "print('Decision Tree Score Result')\n",
        "print(\"Accuracy   :\",acc(y_test, result_decision_tree))"
      ]
    },
    {
      "cell_type": "code",
      "execution_count": 74,
      "metadata": {
        "id": "avsOrfGV2urn",
        "colab": {
          "base_uri": "https://localhost:8080/"
        },
        "outputId": "39f30787-53a0-41f2-bf28-7842806f9739"
      },
      "outputs": [
        {
          "output_type": "stream",
          "name": "stdout",
          "text": [
            "KNN Score Result\n",
            "Accuracy   : 0.8708977678259044\n"
          ]
        }
      ],
      "source": [
        "# Klasifikasi dengan algoritma KNN\n",
        "knn = KNeighborsClassifier(n_neighbors = 4)\n",
        "knn = knn.fit(x_train, y_train)\n",
        "result_knn = knn.predict(x_test)\n",
        "\n",
        "print('KNN Score Result')\n",
        "print(\"Accuracy   :\", acc(y_test, result_knn))"
      ]
    },
    {
      "cell_type": "markdown",
      "metadata": {
        "id": "QY5vgpLsvo-R"
      },
      "source": [
        "# Kesimpulan"
      ]
    },
    {
      "cell_type": "markdown",
      "metadata": {
        "id": "3ni9vMzX3Vaw"
      },
      "source": [
        "Dari hasil pemodelan dan eksplorasi yang telah dilakukan didapat bahwa model klasifikasi dengan algoritma Decision Tree lebih baik dari pada Naive Bayes dan KNN, yaitu dengan skor akurasi sebesar 0.878\n",
        " "
      ]
    },
    {
      "cell_type": "markdown",
      "metadata": {
        "id": "FEKh_yrT3pMb"
      },
      "source": [
        "# Referensi\n",
        "\n",
        "Data Splitting: https://machinelearningmastery.com/train-test-split-for-evaluating-machine-learning-algorithms/\n",
        "\n",
        "Smote: https://www.analyticsvidhya.com/blog/2020/07/10-techniques-to-deal-with-class-imbalance-in-machine-learning/\n",
        "\n",
        "Confusion Matrix Visualization: https://medium.com/@dtuk81/confusion-matrix-visualization-fc31e3f30fea\n"
      ]
    }
  ],
  "metadata": {
    "colab": {
      "collapsed_sections": [],
      "name": "Revisi of Tugas 2_Machine Learning_Classification",
      "provenance": []
    },
    "kernelspec": {
      "display_name": "Python 3",
      "name": "python3"
    },
    "language_info": {
      "name": "python"
    }
  },
  "nbformat": 4,
  "nbformat_minor": 0
}